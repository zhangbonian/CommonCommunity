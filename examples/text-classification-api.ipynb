{
  "cells": [
    {
      "cell_type": "markdown",
      "id": "be189fde-4e5b-4f80-bae1-ded86a5075a7",
      "metadata": {
        "id": "be189fde-4e5b-4f80-bae1-ded86a5075a7"
      },
      "source": [
        "# Text classification with kluster.ai API"
      ]
    },
    {
      "cell_type": "markdown",
      "id": "b17a77d9",
      "metadata": {
        "id": "b17a77d9"
      },
      "source": [
        "[![Open in Colab](https://colab.research.google.com/assets/colab-badge.svg)](https://colab.research.google.com/github/kluster-ai/klusterai-cookbook/blob/main/examples/text-classification-api.ipynb)"
      ]
    },
    {
      "cell_type": "markdown",
      "id": "6d1d06ea-79c1-4f28-b312-0e5aabe18ff3",
      "metadata": {
        "id": "6d1d06ea-79c1-4f28-b312-0e5aabe18ff3"
      },
      "source": [
        "Welcome to the text classification notebook with the kluster.ai Batch API!\n",
        "\n",
        "This notebook showcases how to use the <a href=\"https://kluster.ai/\" target=\"_blank\">kluster.ai</a> Batch API to classify a data set based on a predefined set of categories. In our example, we use an extract from the IMDB top 1000 movies dataset and categorize them into one of “Action”, “Adventure”, “Comedy”, “Crime”, “Documentary”, “Drama”, “Fantasy”, “Horror”, “Romance”, or “Sci-Fi”. We are using a movies dataset but you can adapt this example by using your data and categories relevant for your use case. With this approach, you can effortlessly process datasets of any scale, from small collections to extensive datasets, and obtain categorized results powered by a state-of-the-art language model.\n",
        "\n",
        "Simply provide your API key and run the preloaded cells to perform the classification. If you don’t have an API key, you can sign up for free <a href=\"https://platform.kluster.ai/signup\" target=\"_blank\">on our platform</a>.\n",
        "\n",
        "Let’s get started!\n"
      ]
    },
    {
      "cell_type": "markdown",
      "id": "xU1WBQJ7Uh09",
      "metadata": {
        "id": "xU1WBQJ7Uh09"
      },
      "source": [
        "## Setup"
      ]
    },
    {
      "cell_type": "markdown",
      "id": "b8d580f8-67d5-45d6-915f-0f6b60d3b543",
      "metadata": {
        "id": "b8d580f8-67d5-45d6-915f-0f6b60d3b543"
      },
      "source": [
        "Enter your personal kluster.ai API key (make sure it has no blank spaces). Remember to <a href=\"https://platform.kluster.ai/signup\" target=\"_blank\">sign up</a> if you don't have one yet."
      ]
    },
    {
      "cell_type": "code",
      "execution_count": null,
      "id": "4911e5eb-7463-4a6b-8a99-9313cecd9d4d",
      "metadata": {
        "id": "4911e5eb-7463-4a6b-8a99-9313cecd9d4d",
        "outputId": "f9b2a90e-b574-40d1-b602-e3c4b2538a28"
      },
      "outputs": [
        {
          "name": "stdout",
          "output_type": "stream",
          "text": [
            "Enter your kluster.ai API key:  ········\n"
          ]
        }
      ],
      "source": [
        "from getpass import getpass\n",
        "\n",
        "api_key = bf0c41b3-7a81-4d8d-a7ac-96c393438e83"
      ]
    },
    {
      "cell_type": "code",
      "execution_count": null,
      "id": "bcc3d475-8f49-4fc4-9a5e-c6eb6866d2b5",
      "metadata": {
        "id": "bcc3d475-8f49-4fc4-9a5e-c6eb6866d2b5"
      },
      "outputs": [],
      "source": [
        "%pip install -q openai"
      ]
    },
    {
      "cell_type": "code",
      "execution_count": null,
      "id": "b89a4feb-37a9-430d-a742-cd58495b4eaf",
      "metadata": {
        "id": "b89a4feb-37a9-430d-a742-cd58495b4eaf"
      },
      "outputs": [],
      "source": [
        "from openai import OpenAI\n",
        "\n",
        "import pandas as pd\n",
        "import time\n",
        "import json\n",
        "from IPython.display import clear_output, display"
      ]
    },
    {
      "cell_type": "code",
      "execution_count": null,
      "id": "zG9y_WO5rYaj",
      "metadata": {
        "id": "zG9y_WO5rYaj"
      },
      "outputs": [],
      "source": [
        "# Set up the client\n",
        "client = OpenAI(\n",
        "    base_url=\"https://api.kluster.ai/v1\",\n",
        "    api_key=api_key,\n",
        ")"
      ]
    },
    {
      "cell_type": "markdown",
      "id": "udPtLfTaisSw",
      "metadata": {
        "id": "udPtLfTaisSw"
      },
      "source": [
        "## Get the data"
      ]
    },
    {
      "cell_type": "markdown",
      "id": "QjCVfg65jKz6",
      "metadata": {
        "id": "QjCVfg65jKz6"
      },
      "source": [
        "This notebook includes a preloaded sample dataset derived from the Top 1000 IMDb Movies dataset. It contains movie descriptions ready for classification. No additional setup is needed—simply proceed to the next steps to begin working with this data."
      ]
    },
    {
      "cell_type": "code",
      "execution_count": null,
      "id": "07018f92-9a01-47d5-916a-12cd03dfa3a0",
      "metadata": {
        "id": "07018f92-9a01-47d5-916a-12cd03dfa3a0"
      },
      "outputs": [],
      "source": [
        "df = pd.DataFrame({\n",
        "    \"text\": [\n",
        "        \"Breakfast at Tiffany's: A young New York socialite becomes interested in a young man who has moved into her apartment building, but her past threatens to get in the way.\",\n",
        "        \"Giant: Sprawling epic covering the life of a Texas cattle rancher and his family and associates.\",\n",
        "        \"From Here to Eternity: In Hawaii in 1941, a private is cruelly punished for not boxing on his unit's team, while his captain's wife and second-in-command are falling in love.\",\n",
        "        \"Lifeboat: Several survivors of a torpedoed merchant ship in World War II find themselves in the same lifeboat with one of the crew members of the U-boat that sank their ship.\",\n",
        "        \"The 39 Steps: A man in London tries to help a counter-espionage Agent. But when the Agent is killed, and the man stands accused, he must go on the run to save himself and stop a spy ring which is trying to steal top secret information.\"\n",
        "    ]\n",
        "})"
      ]
    },
    {
      "cell_type": "markdown",
      "id": "OyGuHllZllct",
      "metadata": {
        "id": "OyGuHllZllct"
      },
      "source": [
        "## Batch inference"
      ]
    },
    {
      "cell_type": "markdown",
      "id": "64c345aa-b6a7-4770-8368-b290e9e799dc",
      "metadata": {
        "id": "64c345aa-b6a7-4770-8368-b290e9e799dc"
      },
      "source": [
        "To execute the inference job, we’ll follow three straightforward steps:\n",
        "1. **Create the inference file -** we’ll generate a file with the desired requests to be processed by the model.\n",
        "2. **Upload the inference file -** once the file is ready, we’ll upload it to the kluster.ai platform using the API, where it will be queued for processing.\n",
        "3. **Start the job -** after the file is uploaded, we’ll initiate the job to process the uploaded data.\n",
        "\n",
        "Everything is set up for you – just run the cells below to watch it all come together!"
      ]
    },
    {
      "cell_type": "markdown",
      "id": "Ew-R24Ltp5EW",
      "metadata": {
        "id": "Ew-R24Ltp5EW"
      },
      "source": [
        "### Create the Batch file"
      ]
    },
    {
      "cell_type": "markdown",
      "id": "qS4JXT52wGJ-",
      "metadata": {
        "id": "qS4JXT52wGJ-"
      },
      "source": [
        "This example selects the `klusterai/Meta-Llama-3.3-70B-Instruct-Turbo` model. If you'd like to use a different model feel free to change the model's name in the following cell. Please refer to our <a href=\"https://docs.kluster.ai/getting-started/#list-supported-models\" target=\"_blank\">documentation</a> for a list of the models we support."
      ]
    },
    {
      "cell_type": "code",
      "execution_count": null,
      "id": "fVtwyqZ_nEq7",
      "metadata": {
        "id": "fVtwyqZ_nEq7"
      },
      "outputs": [],
      "source": [
        "def create_inference_file(df):\n",
        "    inference_list = []\n",
        "    for index, row in df.iterrows():\n",
        "        content = row['text']\n",
        "\n",
        "        request = {\n",
        "            \"custom_id\": f\"movie_classification-{index}\",\n",
        "            \"method\": \"POST\",\n",
        "            \"url\": \"/v1/chat/completions\",\n",
        "            \"body\": {\n",
        "                \"model\": \"klusterai/Meta-Llama-3.3-70B-Instruct-Turbo\",\n",
        "                \"temperature\": 0.5,\n",
        "                \"messages\": [\n",
        "                    {\"role\": \"system\", \"content\": 'Classify the main genre of the given movie description based on the following genres(Respond with only the genre): “Action”, “Adventure”, “Comedy”, “Crime”, “Documentary”, “Drama”, “Fantasy”, “Horror”, “Romance”, “Sci-Fi”.'},\n",
        "                    {\"role\": \"user\", \"content\": content}\n",
        "                ],\n",
        "            }\n",
        "        }\n",
        "        inference_list.append(request)\n",
        "    return inference_list\n",
        "\n",
        "def save_inference_file(inference_list):\n",
        "    filename = f\"movie_classification_inference_request.jsonl\"\n",
        "    with open(filename, 'w') as file:\n",
        "        for request in inference_list:\n",
        "            file.write(json.dumps(request) + '\\n')\n",
        "    return filename"
      ]
    },
    {
      "cell_type": "code",
      "execution_count": null,
      "id": "qNhmrmHdnp7g",
      "metadata": {
        "id": "qNhmrmHdnp7g"
      },
      "outputs": [],
      "source": [
        "inference_list = create_inference_file(df)\n",
        "filename = save_inference_file(inference_list)"
      ]
    },
    {
      "cell_type": "markdown",
      "id": "ada26fe3-acb9-48dc-b368-b57fc380cdb8",
      "metadata": {
        "id": "ada26fe3-acb9-48dc-b368-b57fc380cdb8"
      },
      "source": [
        "Let’s preview what that request file looks like:"
      ]
    },
    {
      "cell_type": "code",
      "execution_count": null,
      "id": "d65f5099-5add-4749-9a85-3c04a9b342bb",
      "metadata": {
        "id": "d65f5099-5add-4749-9a85-3c04a9b342bb",
        "outputId": "601b1677-8fa1-4ef4-bf44-d0eef77df99c"
      },
      "outputs": [
        {
          "name": "stdout",
          "output_type": "stream",
          "text": [
            "{\"custom_id\": \"movie_classification-0\", \"method\": \"POST\", \"url\": \"/v1/chat/completions\", \"body\": {\"model\": \"klusterai/Meta-Llama-3.3-70B-Instruct-Turbo\", \"temperature\": 0.5, \"messages\": [{\"role\": \"system\", \"content\": \"Classify the main genre of the given movie description based on the following genres(Respond with only the genre): \\u201cAction\\u201d, \\u201cAdventure\\u201d, \\u201cComedy\\u201d, \\u201cCrime\\u201d, \\u201cDocumentary\\u201d, \\u201cDrama\\u201d, \\u201cFantasy\\u201d, \\u201cHorror\\u201d, \\u201cRomance\\u201d, \\u201cSci-Fi\\u201d.\"}, {\"role\": \"user\", \"content\": \"Breakfast at Tiffany's: A young New York socialite becomes interested in a young man who has moved into her apartment building, but her past threatens to get in the way.\"}]}}\n"
          ]
        }
      ],
      "source": [
        "!head -n 1 movie_classification_inference_request.jsonl"
      ]
    },
    {
      "cell_type": "markdown",
      "id": "xArKu7-sqSiR",
      "metadata": {
        "id": "xArKu7-sqSiR"
      },
      "source": [
        "### Upload inference file to kluster.ai"
      ]
    },
    {
      "cell_type": "markdown",
      "id": "e48b2489-99bc-431b-8cb3-de816550d524",
      "metadata": {
        "id": "e48b2489-99bc-431b-8cb3-de816550d524"
      },
      "source": [
        "Now that we’ve prepared our input file, it’s time to upload it to the kluster.ai platform."
      ]
    },
    {
      "cell_type": "code",
      "execution_count": null,
      "id": "l5eu5UyAnEtk",
      "metadata": {
        "id": "l5eu5UyAnEtk"
      },
      "outputs": [],
      "source": [
        "inference_input_file = client.files.create(\n",
        "    file=open(filename, \"rb\"),\n",
        "    purpose=\"batch\"\n",
        ")"
      ]
    },
    {
      "cell_type": "markdown",
      "id": "6438be35-1e73-4c34-9249-2dd16d102253",
      "metadata": {
        "id": "6438be35-1e73-4c34-9249-2dd16d102253"
      },
      "source": [
        "### Start the job"
      ]
    },
    {
      "cell_type": "markdown",
      "id": "251a0b89-71a9-40d7-bf14-51be935afe10",
      "metadata": {
        "id": "251a0b89-71a9-40d7-bf14-51be935afe10"
      },
      "source": [
        "Once the file has been successfully uploaded, we’re ready to start the inference job."
      ]
    },
    {
      "cell_type": "code",
      "execution_count": null,
      "id": "71a24704-7190-4e24-898f-c4eff062439a",
      "metadata": {
        "id": "71a24704-7190-4e24-898f-c4eff062439a"
      },
      "outputs": [],
      "source": [
        "inference_job = client.batches.create(\n",
        "    input_file_id=inference_input_file.id,\n",
        "    endpoint=\"/v1/chat/completions\",\n",
        "    completion_window=\"24h\"\n",
        ")"
      ]
    },
    {
      "cell_type": "markdown",
      "id": "e-ujphILqepu",
      "metadata": {
        "id": "e-ujphILqepu"
      },
      "source": [
        "### Check job progress"
      ]
    },
    {
      "cell_type": "markdown",
      "id": "iFrDrriQqizC",
      "metadata": {
        "id": "iFrDrriQqizC"
      },
      "source": [
        "Now that the job has been created, your request is now being processed! In the following section, we’ll monitor the status of the job to see how it's progressing. Let’s take a look and keep track of it's status."
      ]
    },
    {
      "cell_type": "code",
      "execution_count": null,
      "id": "SuH0CfoqjP3d",
      "metadata": {
        "id": "SuH0CfoqjP3d",
        "outputId": "a25a3026-94fc-477d-a8a2-6a4eafe20a05"
      },
      "outputs": [
        {
          "data": {
            "text/plain": [
              "'Job completed!'"
            ]
          },
          "metadata": {},
          "output_type": "display_data"
        }
      ],
      "source": [
        "def parse_json_objects(data_string):\n",
        "    if isinstance(data_string, bytes):\n",
        "        data_string = data_string.decode('utf-8')\n",
        "\n",
        "    json_strings = data_string.strip().split('\\n')\n",
        "    json_objects = []\n",
        "\n",
        "    for json_str in json_strings:\n",
        "        try:\n",
        "            json_obj = json.loads(json_str)\n",
        "            json_objects.append(json_obj)\n",
        "        except json.JSONDecodeError as e:\n",
        "            print(f\"Error parsing JSON: {e}\")\n",
        "\n",
        "    return json_objects\n",
        "\n",
        "all_completed = False\n",
        "while not all_completed:\n",
        "    all_completed = True\n",
        "    output_lines = []\n",
        "\n",
        "    updated_job = client.batches.retrieve(inference_job.id)\n",
        "\n",
        "    if updated_job.status != \"completed\":\n",
        "        all_completed = False\n",
        "        completed = updated_job.request_counts.completed\n",
        "        total = updated_job.request_counts.total\n",
        "        output_lines.append(f\"Job status: {updated_job.status} - Progress: {completed}/{total}\")\n",
        "    else:\n",
        "        output_lines.append(f\"Job completed!\")\n",
        "\n",
        "    # Clear the output and display updated status\n",
        "    clear_output(wait=True)\n",
        "    for line in output_lines:\n",
        "        display(line)\n",
        "\n",
        "    if not all_completed:\n",
        "        time.sleep(10)"
      ]
    },
    {
      "cell_type": "markdown",
      "id": "TkkhIG9HU0D9",
      "metadata": {
        "id": "TkkhIG9HU0D9"
      },
      "source": [
        "## Get the results"
      ]
    },
    {
      "cell_type": "markdown",
      "id": "12c1f6ac-8d60-4158-9036-de79fa274983",
      "metadata": {
        "id": "12c1f6ac-8d60-4158-9036-de79fa274983"
      },
      "source": [
        "With the job completed, we’ll now retrieve the results and review the responses generated for each request."
      ]
    },
    {
      "cell_type": "code",
      "execution_count": null,
      "id": "806a5eb1-f6d3-491d-b051-9d44bf046a7e",
      "metadata": {
        "id": "806a5eb1-f6d3-491d-b051-9d44bf046a7e",
        "outputId": "06710022-da08-4d51-9391-0247d170a015"
      },
      "outputs": [
        {
          "data": {
            "text/plain": [
              "[{'id': '67781586bfa945a98224262c',\n",
              "  'custom_id': 'movie_classification-0',\n",
              "  'response': {'status_code': 200,\n",
              "   'request_id': 'b21b91e3-f81e-457f-b2da-6815d63b05c5',\n",
              "   'body': {'id': 'chat-f37f29004cc246438b9efad914a27e58',\n",
              "    'object': 'chat.completion',\n",
              "    'created': 1735923078,\n",
              "    'model': 'klusterai/Meta-Llama-3.3-70B-Instruct-Turbo',\n",
              "    'choices': [{'index': 0,\n",
              "      'message': {'role': 'assistant', 'content': 'Romance', 'tool_calls': []},\n",
              "      'logprobs': None,\n",
              "      'finish_reason': 'stop',\n",
              "      'stop_reason': None}],\n",
              "    'usage': {'prompt_tokens': 130,\n",
              "     'total_tokens': 133,\n",
              "     'completion_tokens': 3},\n",
              "    'prompt_logprobs': None}}},\n",
              " {'id': '67781586bfa945a98224262e',\n",
              "  'custom_id': 'movie_classification-1',\n",
              "  'response': {'status_code': 200,\n",
              "   'request_id': 'bcababdb-3917-49b5-a87b-176b8d928299',\n",
              "   'body': {'id': 'chat-7c5214d5d13a4dba99a6aa97669ea9ac',\n",
              "    'object': 'chat.completion',\n",
              "    'created': 1735923078,\n",
              "    'model': 'klusterai/Meta-Llama-3.3-70B-Instruct-Turbo',\n",
              "    'choices': [{'index': 0,\n",
              "      'message': {'role': 'assistant', 'content': 'Drama', 'tool_calls': []},\n",
              "      'logprobs': None,\n",
              "      'finish_reason': 'stop',\n",
              "      'stop_reason': None}],\n",
              "    'usage': {'prompt_tokens': 116,\n",
              "     'total_tokens': 119,\n",
              "     'completion_tokens': 3},\n",
              "    'prompt_logprobs': None}}},\n",
              " {'id': '67781586bfa945a982242630',\n",
              "  'custom_id': 'movie_classification-2',\n",
              "  'response': {'status_code': 200,\n",
              "   'request_id': '8f4ad4c7-492e-4e04-80e8-41ab1e12cbb6',\n",
              "   'body': {'id': 'chat-2fda15a0b53d4350b0a932747941bf9e',\n",
              "    'object': 'chat.completion',\n",
              "    'created': 1735923078,\n",
              "    'model': 'klusterai/Meta-Llama-3.3-70B-Instruct-Turbo',\n",
              "    'choices': [{'index': 0,\n",
              "      'message': {'role': 'assistant', 'content': 'Drama', 'tool_calls': []},\n",
              "      'logprobs': None,\n",
              "      'finish_reason': 'stop',\n",
              "      'stop_reason': None}],\n",
              "    'usage': {'prompt_tokens': 137,\n",
              "     'total_tokens': 140,\n",
              "     'completion_tokens': 3},\n",
              "    'prompt_logprobs': None}}},\n",
              " {'id': '67781586bfa945a982242632',\n",
              "  'custom_id': 'movie_classification-3',\n",
              "  'response': {'status_code': 200,\n",
              "   'request_id': 'd9c01e8f-7c96-4d8d-bdb8-3ffe9df171d3',\n",
              "   'body': {'id': 'chat-f776672680574b1cb9dc5305039c908f',\n",
              "    'object': 'chat.completion',\n",
              "    'created': 1735923078,\n",
              "    'model': 'klusterai/Meta-Llama-3.3-70B-Instruct-Turbo',\n",
              "    'choices': [{'index': 0,\n",
              "      'message': {'role': 'assistant', 'content': 'Drama', 'tool_calls': []},\n",
              "      'logprobs': None,\n",
              "      'finish_reason': 'stop',\n",
              "      'stop_reason': None}],\n",
              "    'usage': {'prompt_tokens': 132,\n",
              "     'total_tokens': 135,\n",
              "     'completion_tokens': 3},\n",
              "    'prompt_logprobs': None}}},\n",
              " {'id': '67781586bfa945a982242634',\n",
              "  'custom_id': 'movie_classification-4',\n",
              "  'response': {'status_code': 200,\n",
              "   'request_id': 'cadcfc39-0f32-470e-8478-50d1c53575bd',\n",
              "   'body': {'id': 'chat-5a276aed0b7d48b4b7051492fdb3eb7d',\n",
              "    'object': 'chat.completion',\n",
              "    'created': 1735923078,\n",
              "    'model': 'klusterai/Meta-Llama-3.3-70B-Instruct-Turbo',\n",
              "    'choices': [{'index': 0,\n",
              "      'message': {'role': 'assistant',\n",
              "       'content': 'Action/Adventure',\n",
              "       'tool_calls': []},\n",
              "      'logprobs': None,\n",
              "      'finish_reason': 'stop',\n",
              "      'stop_reason': None}],\n",
              "    'usage': {'prompt_tokens': 149,\n",
              "     'total_tokens': 153,\n",
              "     'completion_tokens': 4},\n",
              "    'prompt_logprobs': None}}}]"
            ]
          },
          "execution_count": 26,
          "metadata": {},
          "output_type": "execute_result"
        }
      ],
      "source": [
        "job = client.batches.retrieve(inference_job.id)\n",
        "result_file_id = job.output_file_id\n",
        "result = client.files.content(result_file_id).content\n",
        "parse_json_objects(result)"
      ]
    },
    {
      "cell_type": "markdown",
      "id": "70e0e816-6558-4ff2-bab2-f85cff00bfc8",
      "metadata": {
        "id": "70e0e816-6558-4ff2-bab2-f85cff00bfc8"
      },
      "source": [
        "## Conclusion"
      ]
    },
    {
      "cell_type": "markdown",
      "id": "7d195dd1-1293-4407-b6ad-cab7e77b14c0",
      "metadata": {
        "id": "7d195dd1-1293-4407-b6ad-cab7e77b14c0"
      },
      "source": [
        "You’ve successfully completed the classification request using the kluster.ai Batch API! This process showcases how you can efficiently handle and classify large amounts of data with ease. The Batch API empowers you to scale your workflows seamlessly, making it an invaluable tool for processing extensive datasets."
      ]
    },
    {
      "cell_type": "code",
      "execution_count": null,
      "id": "c092343e-7672-46f4-aa27-00b3466ad210",
      "metadata": {
        "id": "c092343e-7672-46f4-aa27-00b3466ad210"
      },
      "outputs": [],
      "source": []
    }
  ],
  "metadata": {
    "kernelspec": {
      "display_name": "Python 3",
      "language": "python",
      "name": "python3"
    },
    "language_info": {
      "codemirror_mode": {
        "name": "ipython",
        "version": 3
      },
      "file_extension": ".py",
      "mimetype": "text/x-python",
      "name": "python",
      "nbconvert_exporter": "python",
      "pygments_lexer": "ipython3",
      "version": "3.9.6"
    },
    "colab": {
      "provenance": []
    }
  },
  "nbformat": 4,
  "nbformat_minor": 5
}